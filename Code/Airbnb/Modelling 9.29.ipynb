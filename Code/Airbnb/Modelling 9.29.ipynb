{
 "cells": [
  {
   "cell_type": "code",
   "execution_count": 75,
   "metadata": {
    "collapsed": true
   },
   "outputs": [],
   "source": [
    "import pandas as pd\n",
    "import numpy as np\n",
    "import matplotlib.pyplot as plt\n",
    "from sklearn.ensemble import RandomForestRegressor\n",
    "from sklearn.ensemble import GradientBoostingRegressor\n",
    "from sklearn.ensemble import AdaBoostRegressor\n",
    "from sklearn.cross_validation import train_test_split\n",
    "from sklearn.grid_search import GridSearchCV\n",
    "from sklearn.metrics import mean_squared_error, mean_absolute_error\n",
    "from sklearn.linear_model import LinearRegression\n",
    "import statsmodels.api as sm\n",
    "\n",
    "%matplotlib inline"
   ]
  },
  {
   "cell_type": "code",
   "execution_count": 39,
   "metadata": {
    "collapsed": true
   },
   "outputs": [],
   "source": [
    "df = pd.read_csv('../../Data/Airbnb/featurized.csv')"
   ]
  },
  {
   "cell_type": "code",
   "execution_count": 40,
   "metadata": {
    "collapsed": false
   },
   "outputs": [],
   "source": [
    "df.drop(['Unnamed: 0', 'Unnamed: 0.1'], axis=1, inplace=True)"
   ]
  },
  {
   "cell_type": "code",
   "execution_count": 41,
   "metadata": {
    "collapsed": false
   },
   "outputs": [],
   "source": [
    "df.drop('fewer_than_five', axis=1, inplace=True)"
   ]
  },
  {
   "cell_type": "code",
   "execution_count": 42,
   "metadata": {
    "collapsed": false
   },
   "outputs": [],
   "source": [
    "df.drop('comps_found', axis=1, inplace=True)"
   ]
  },
  {
   "cell_type": "code",
   "execution_count": 50,
   "metadata": {
    "collapsed": true
   },
   "outputs": [],
   "source": [
    "df.drop('maximum_nights', axis=1, inplace=True)"
   ]
  },
  {
   "cell_type": "code",
   "execution_count": 51,
   "metadata": {
    "collapsed": false
   },
   "outputs": [
    {
     "data": {
      "text/html": [
       "<div>\n",
       "<table border=\"1\" class=\"dataframe\">\n",
       "  <thead>\n",
       "    <tr style=\"text-align: right;\">\n",
       "      <th></th>\n",
       "      <th>bathrooms</th>\n",
       "      <th>bedrooms</th>\n",
       "      <th>price</th>\n",
       "      <th>guests_included</th>\n",
       "      <th>extra_people</th>\n",
       "      <th>minimum_nights</th>\n",
       "      <th>latitude</th>\n",
       "      <th>longitude</th>\n",
       "      <th>acc_per_bed</th>\n",
       "      <th>Couch</th>\n",
       "      <th>Futon</th>\n",
       "      <th>Pull-out Sofa</th>\n",
       "      <th>Real Bed</th>\n",
       "      <th>comp_median_price</th>\n",
       "    </tr>\n",
       "  </thead>\n",
       "  <tbody>\n",
       "    <tr>\n",
       "      <th>0</th>\n",
       "      <td>1</td>\n",
       "      <td>1</td>\n",
       "      <td>250</td>\n",
       "      <td>1</td>\n",
       "      <td>0</td>\n",
       "      <td>2</td>\n",
       "      <td>37.762674</td>\n",
       "      <td>-122.439195</td>\n",
       "      <td>2.0</td>\n",
       "      <td>0</td>\n",
       "      <td>0</td>\n",
       "      <td>0</td>\n",
       "      <td>1</td>\n",
       "      <td>170.0</td>\n",
       "    </tr>\n",
       "    <tr>\n",
       "      <th>1</th>\n",
       "      <td>1</td>\n",
       "      <td>1</td>\n",
       "      <td>170</td>\n",
       "      <td>1</td>\n",
       "      <td>0</td>\n",
       "      <td>2</td>\n",
       "      <td>37.790745</td>\n",
       "      <td>-122.415334</td>\n",
       "      <td>1.0</td>\n",
       "      <td>0</td>\n",
       "      <td>0</td>\n",
       "      <td>0</td>\n",
       "      <td>1</td>\n",
       "      <td>190.0</td>\n",
       "    </tr>\n",
       "    <tr>\n",
       "      <th>2</th>\n",
       "      <td>1</td>\n",
       "      <td>0</td>\n",
       "      <td>185</td>\n",
       "      <td>1</td>\n",
       "      <td>0</td>\n",
       "      <td>2</td>\n",
       "      <td>37.759449</td>\n",
       "      <td>-122.389447</td>\n",
       "      <td>1.5</td>\n",
       "      <td>0</td>\n",
       "      <td>0</td>\n",
       "      <td>0</td>\n",
       "      <td>1</td>\n",
       "      <td>147.5</td>\n",
       "    </tr>\n",
       "    <tr>\n",
       "      <th>3</th>\n",
       "      <td>1</td>\n",
       "      <td>0</td>\n",
       "      <td>125</td>\n",
       "      <td>1</td>\n",
       "      <td>0</td>\n",
       "      <td>15</td>\n",
       "      <td>37.792592</td>\n",
       "      <td>-122.421331</td>\n",
       "      <td>1.0</td>\n",
       "      <td>0</td>\n",
       "      <td>0</td>\n",
       "      <td>0</td>\n",
       "      <td>1</td>\n",
       "      <td>159.5</td>\n",
       "    </tr>\n",
       "    <tr>\n",
       "      <th>4</th>\n",
       "      <td>1</td>\n",
       "      <td>0</td>\n",
       "      <td>140</td>\n",
       "      <td>0</td>\n",
       "      <td>0</td>\n",
       "      <td>3</td>\n",
       "      <td>37.791648</td>\n",
       "      <td>-122.413633</td>\n",
       "      <td>2.0</td>\n",
       "      <td>0</td>\n",
       "      <td>0</td>\n",
       "      <td>0</td>\n",
       "      <td>1</td>\n",
       "      <td>175.0</td>\n",
       "    </tr>\n",
       "  </tbody>\n",
       "</table>\n",
       "</div>"
      ],
      "text/plain": [
       "   bathrooms  bedrooms  price  guests_included  extra_people  minimum_nights  \\\n",
       "0          1         1    250                1             0               2   \n",
       "1          1         1    170                1             0               2   \n",
       "2          1         0    185                1             0               2   \n",
       "3          1         0    125                1             0              15   \n",
       "4          1         0    140                0             0               3   \n",
       "\n",
       "    latitude   longitude  acc_per_bed  Couch  Futon  Pull-out Sofa  Real Bed  \\\n",
       "0  37.762674 -122.439195          2.0      0      0              0         1   \n",
       "1  37.790745 -122.415334          1.0      0      0              0         1   \n",
       "2  37.759449 -122.389447          1.5      0      0              0         1   \n",
       "3  37.792592 -122.421331          1.0      0      0              0         1   \n",
       "4  37.791648 -122.413633          2.0      0      0              0         1   \n",
       "\n",
       "   comp_median_price  \n",
       "0              170.0  \n",
       "1              190.0  \n",
       "2              147.5  \n",
       "3              159.5  \n",
       "4              175.0  "
      ]
     },
     "execution_count": 51,
     "metadata": {},
     "output_type": "execute_result"
    }
   ],
   "source": [
    "df.head()"
   ]
  },
  {
   "cell_type": "code",
   "execution_count": 11,
   "metadata": {
    "collapsed": true
   },
   "outputs": [],
   "source": [
    "def fit_score_model(X_train, X_test, y_train, y_test, model):\n",
    "\t'''\n",
    "\n",
    "\t'''\n",
    "\tmodel.fit(X_train.values, y_train.values)\n",
    "\ty_pred = model.predict(X_test.values)\n",
    "\n",
    "\tmse = mean_squared_error(y_test.values, y_pred)\n",
    "\tmae = mean_absolute_error(y_test.values, y_pred)\n",
    "\n",
    "\treturn mse, mae"
   ]
  },
  {
   "cell_type": "code",
   "execution_count": 52,
   "metadata": {
    "collapsed": true
   },
   "outputs": [],
   "source": [
    "y = df.price"
   ]
  },
  {
   "cell_type": "code",
   "execution_count": 53,
   "metadata": {
    "collapsed": true
   },
   "outputs": [],
   "source": [
    "X = df.drop('price', axis=1)"
   ]
  },
  {
   "cell_type": "code",
   "execution_count": 54,
   "metadata": {
    "collapsed": false
   },
   "outputs": [],
   "source": [
    "X_train, X_test, y_train, y_test = train_test_split(X, y, test_size=0.3)"
   ]
  },
  {
   "cell_type": "code",
   "execution_count": 55,
   "metadata": {
    "collapsed": false
   },
   "outputs": [
    {
     "name": "stderr",
     "output_type": "stream",
     "text": [
      "/anaconda/lib/python2.7/site-packages/ipykernel/__main__.py:3: SettingWithCopyWarning: \n",
      "A value is trying to be set on a copy of a slice from a DataFrame\n",
      "\n",
      "See the the caveats in the documentation: http://pandas.pydata.org/pandas-docs/stable/indexing.html#indexing-view-versus-copy\n",
      "  app.launch_new_instance()\n",
      "/anaconda/lib/python2.7/site-packages/ipykernel/__main__.py:4: SettingWithCopyWarning: \n",
      "A value is trying to be set on a copy of a slice from a DataFrame\n",
      "\n",
      "See the the caveats in the documentation: http://pandas.pydata.org/pandas-docs/stable/indexing.html#indexing-view-versus-copy\n"
     ]
    }
   ],
   "source": [
    "X_train_gps = X_train[['latitude', 'longitude']]\n",
    "X_test_gps = X_test[['latitude', 'longitude']]\n",
    "X_train.drop(['latitude', 'longitude'], axis=1, inplace=True)\n",
    "X_test.drop(['latitude', 'longitude'], axis=1, inplace=True)"
   ]
  },
  {
   "cell_type": "code",
   "execution_count": 56,
   "metadata": {
    "collapsed": false
   },
   "outputs": [],
   "source": [
    "rf = RandomForestRegressor(n_estimators=100)\n",
    "lr = LinearRegression()\n",
    "gdbr = GradientBoostingRegressor()\n",
    "ada = AdaBoostRegressor()\n",
    "\n",
    "models = [rf, lr, gdbr, ada]"
   ]
  },
  {
   "cell_type": "code",
   "execution_count": 57,
   "metadata": {
    "collapsed": false
   },
   "outputs": [
    {
     "name": "stdout",
     "output_type": "stream",
     "text": [
      "RandomForestRegressor\n",
      "MSE:  10788.6672817\n",
      "MAE:  62.6395356106\n",
      "------------------------------\n",
      "LinearRegression\n",
      "MSE:  8591.38803469\n",
      "MAE:  55.3756131399\n",
      "------------------------------\n",
      "GradientBoostingRegressor\n",
      "MSE:  8844.71533545\n",
      "MAE:  56.530929383\n",
      "------------------------------\n",
      "AdaBoostRegressor\n",
      "MSE:  44177.4963047\n",
      "MAE:  192.446337312\n",
      "------------------------------\n"
     ]
    }
   ],
   "source": [
    "for model in models:\n",
    "    mse, mae = fit_score_model(X_train, X_test, y_train, y_test, model)\n",
    "    print model.__class__.__name__\n",
    "    print \"MSE: \", mse\n",
    "    print \"MAE: \", mae\n",
    "    print '-' * 30"
   ]
  },
  {
   "cell_type": "code",
   "execution_count": 59,
   "metadata": {
    "collapsed": false
   },
   "outputs": [
    {
     "data": {
      "text/plain": [
       "Index([u'bathrooms', u'bedrooms', u'guests_included', u'extra_people',\n",
       "       u'minimum_nights', u'acc_per_bed', u'Couch', u'Futon', u'Pull-out Sofa',\n",
       "       u'Real Bed', u'comp_median_price'],\n",
       "      dtype='object')"
      ]
     },
     "execution_count": 59,
     "metadata": {},
     "output_type": "execute_result"
    }
   ],
   "source": [
    "X_train.columns"
   ]
  },
  {
   "cell_type": "code",
   "execution_count": 60,
   "metadata": {
    "collapsed": false
   },
   "outputs": [
    {
     "name": "stdout",
     "output_type": "stream",
     "text": [
      "Fitting 3 folds for each of 30 candidates, totalling 90 fits\n"
     ]
    },
    {
     "name": "stderr",
     "output_type": "stream",
     "text": [
      "[Parallel(n_jobs=-1)]: Done   1 jobs       | elapsed:    0.1s\n",
      "[Parallel(n_jobs=-1)]: Done  50 jobs       | elapsed:    0.8s\n",
      "[Parallel(n_jobs=-1)]: Done  84 out of  90 | elapsed:    1.3s remaining:    0.1s\n",
      "[Parallel(n_jobs=-1)]: Done  90 out of  90 | elapsed:    1.4s finished\n"
     ]
    },
    {
     "data": {
      "text/plain": [
       "GridSearchCV(cv=None, error_score='raise',\n",
       "       estimator=GradientBoostingRegressor(alpha=0.9, init=None, learning_rate=0.1, loss='ls',\n",
       "             max_depth=3, max_features='sqrt', max_leaf_nodes=None,\n",
       "             min_samples_leaf=1, min_samples_split=2,\n",
       "             min_weight_fraction_leaf=0.0, n_estimators=100,\n",
       "             random_state=None, subsample=1.0, verbose=0, warm_start=False),\n",
       "       fit_params={}, iid=True, loss_func=None, n_jobs=-1,\n",
       "       param_grid={'n_estimators': [25, 40, 50, 60, 75, 100], 'learning_rate': [0.05, 0.075, 0.1, 0.125, 0.15]},\n",
       "       pre_dispatch='2*n_jobs', refit=True, score_func=None,\n",
       "       scoring='mean_squared_error', verbose=True)"
      ]
     },
     "execution_count": 60,
     "metadata": {},
     "output_type": "execute_result"
    }
   ],
   "source": [
    "gradient_boost_grid2 = {'learning_rate': [0.05, 0.075, 0.1, 0.125, 0.15], \n",
    "\t\t\t\t\t\t'n_estimators': [25, 40, 50, 60, 75, 100]}\n",
    "gb_gridsearch = GridSearchCV(GradientBoostingRegressor(max_depth=3, min_samples_leaf=1, max_features='sqrt'),\n",
    "                             gradient_boost_grid2,\n",
    "                             n_jobs=-1,\n",
    "                             verbose=True,\n",
    "                             scoring='mean_squared_error')\n",
    "gb_gridsearch.fit(X_train, y_train)"
   ]
  },
  {
   "cell_type": "code",
   "execution_count": 61,
   "metadata": {
    "collapsed": true
   },
   "outputs": [],
   "source": [
    "gb_val = gb_gridsearch.best_estimator_"
   ]
  },
  {
   "cell_type": "code",
   "execution_count": 62,
   "metadata": {
    "collapsed": false
   },
   "outputs": [
    {
     "data": {
      "text/plain": [
       "(8690.6258178583703, 56.636666920445471)"
      ]
     },
     "execution_count": 62,
     "metadata": {},
     "output_type": "execute_result"
    }
   ],
   "source": [
    "fit_score_model(X_train, X_test, y_train, y_test, gb_val)"
   ]
  },
  {
   "cell_type": "code",
   "execution_count": 70,
   "metadata": {
    "collapsed": false
   },
   "outputs": [
    {
     "data": {
      "text/plain": [
       "LinearRegression(copy_X=True, fit_intercept=True, n_jobs=1, normalize=False)"
      ]
     },
     "execution_count": 70,
     "metadata": {},
     "output_type": "execute_result"
    }
   ],
   "source": [
    "lr.fit(X_train, y_train)"
   ]
  },
  {
   "cell_type": "code",
   "execution_count": 83,
   "metadata": {
    "collapsed": false
   },
   "outputs": [],
   "source": [
    "X_train_int = sm.add_constant(X_train)\n",
    "lr2 = sm.OLS(y_train, X_train_int)\n",
    "lr2 = lr2.fit()"
   ]
  },
  {
   "cell_type": "code",
   "execution_count": 84,
   "metadata": {
    "collapsed": false
   },
   "outputs": [
    {
     "data": {
      "text/html": [
       "<table class=\"simpletable\">\n",
       "<caption>OLS Regression Results</caption>\n",
       "<tr>\n",
       "  <th>Dep. Variable:</th>          <td>price</td>      <th>  R-squared:         </th> <td>   0.527</td> \n",
       "</tr>\n",
       "<tr>\n",
       "  <th>Model:</th>                   <td>OLS</td>       <th>  Adj. R-squared:    </th> <td>   0.525</td> \n",
       "</tr>\n",
       "<tr>\n",
       "  <th>Method:</th>             <td>Least Squares</td>  <th>  F-statistic:       </th> <td>   224.9</td> \n",
       "</tr>\n",
       "<tr>\n",
       "  <th>Date:</th>             <td>Tue, 29 Sep 2015</td> <th>  Prob (F-statistic):</th>  <td>  0.00</td>  \n",
       "</tr>\n",
       "<tr>\n",
       "  <th>Time:</th>                 <td>13:39:55</td>     <th>  Log-Likelihood:    </th> <td> -13456.</td> \n",
       "</tr>\n",
       "<tr>\n",
       "  <th>No. Observations:</th>      <td>  2233</td>      <th>  AIC:               </th> <td>2.694e+04</td>\n",
       "</tr>\n",
       "<tr>\n",
       "  <th>Df Residuals:</th>          <td>  2221</td>      <th>  BIC:               </th> <td>2.701e+04</td>\n",
       "</tr>\n",
       "<tr>\n",
       "  <th>Df Model:</th>              <td>    11</td>      <th>                     </th>     <td> </td>    \n",
       "</tr>\n",
       "<tr>\n",
       "  <th>Covariance Type:</th>      <td>nonrobust</td>    <th>                     </th>     <td> </td>    \n",
       "</tr>\n",
       "</table>\n",
       "<table class=\"simpletable\">\n",
       "<tr>\n",
       "          <td></td>             <th>coef</th>     <th>std err</th>      <th>t</th>      <th>P>|t|</th> <th>[95.0% Conf. Int.]</th> \n",
       "</tr>\n",
       "<tr>\n",
       "  <th>const</th>             <td>  -43.0363</td> <td>   53.008</td> <td>   -0.812</td> <td> 0.417</td> <td> -146.986    60.914</td>\n",
       "</tr>\n",
       "<tr>\n",
       "  <th>bathrooms</th>         <td>   64.9555</td> <td>    5.276</td> <td>   12.311</td> <td> 0.000</td> <td>   54.609    75.302</td>\n",
       "</tr>\n",
       "<tr>\n",
       "  <th>bedrooms</th>          <td>   -2.9776</td> <td>    3.994</td> <td>   -0.746</td> <td> 0.456</td> <td>  -10.809     4.854</td>\n",
       "</tr>\n",
       "<tr>\n",
       "  <th>guests_included</th>   <td>   -1.5555</td> <td>    1.822</td> <td>   -0.854</td> <td> 0.393</td> <td>   -5.128     2.017</td>\n",
       "</tr>\n",
       "<tr>\n",
       "  <th>extra_people</th>      <td>    0.1342</td> <td>    0.102</td> <td>    1.312</td> <td> 0.190</td> <td>   -0.066     0.335</td>\n",
       "</tr>\n",
       "<tr>\n",
       "  <th>minimum_nights</th>    <td>   -0.9968</td> <td>    0.383</td> <td>   -2.604</td> <td> 0.009</td> <td>   -1.748    -0.246</td>\n",
       "</tr>\n",
       "<tr>\n",
       "  <th>acc_per_bed</th>       <td>    5.2501</td> <td>    2.675</td> <td>    1.962</td> <td> 0.050</td> <td>    0.004    10.496</td>\n",
       "</tr>\n",
       "<tr>\n",
       "  <th>Couch</th>             <td>  321.2843</td> <td>   89.377</td> <td>    3.595</td> <td> 0.000</td> <td>  146.013   496.556</td>\n",
       "</tr>\n",
       "<tr>\n",
       "  <th>Futon</th>             <td>  -15.2421</td> <td>   68.261</td> <td>   -0.223</td> <td> 0.823</td> <td> -149.104   118.619</td>\n",
       "</tr>\n",
       "<tr>\n",
       "  <th>Pull-out Sofa</th>     <td>   -6.4715</td> <td>   60.275</td> <td>   -0.107</td> <td> 0.915</td> <td> -124.672   111.729</td>\n",
       "</tr>\n",
       "<tr>\n",
       "  <th>Real Bed</th>          <td>   12.1013</td> <td>   51.233</td> <td>    0.236</td> <td> 0.813</td> <td>  -88.369   112.572</td>\n",
       "</tr>\n",
       "<tr>\n",
       "  <th>comp_median_price</th> <td>    0.8267</td> <td>    0.039</td> <td>   21.424</td> <td> 0.000</td> <td>    0.751     0.902</td>\n",
       "</tr>\n",
       "</table>\n",
       "<table class=\"simpletable\">\n",
       "<tr>\n",
       "  <th>Omnibus:</th>       <td>1346.513</td> <th>  Durbin-Watson:     </th> <td>   1.976</td> \n",
       "</tr>\n",
       "<tr>\n",
       "  <th>Prob(Omnibus):</th>  <td> 0.000</td>  <th>  Jarque-Bera (JB):  </th> <td>25433.756</td>\n",
       "</tr>\n",
       "<tr>\n",
       "  <th>Skew:</th>           <td> 2.483</td>  <th>  Prob(JB):          </th> <td>    0.00</td> \n",
       "</tr>\n",
       "<tr>\n",
       "  <th>Kurtosis:</th>       <td>18.770</td>  <th>  Cond. No.          </th> <td>1.43e+04</td> \n",
       "</tr>\n",
       "</table>"
      ],
      "text/plain": [
       "<class 'statsmodels.iolib.summary.Summary'>\n",
       "\"\"\"\n",
       "                            OLS Regression Results                            \n",
       "==============================================================================\n",
       "Dep. Variable:                  price   R-squared:                       0.527\n",
       "Model:                            OLS   Adj. R-squared:                  0.525\n",
       "Method:                 Least Squares   F-statistic:                     224.9\n",
       "Date:                Tue, 29 Sep 2015   Prob (F-statistic):               0.00\n",
       "Time:                        13:39:55   Log-Likelihood:                -13456.\n",
       "No. Observations:                2233   AIC:                         2.694e+04\n",
       "Df Residuals:                    2221   BIC:                         2.701e+04\n",
       "Df Model:                          11                                         \n",
       "Covariance Type:            nonrobust                                         \n",
       "=====================================================================================\n",
       "                        coef    std err          t      P>|t|      [95.0% Conf. Int.]\n",
       "-------------------------------------------------------------------------------------\n",
       "const               -43.0363     53.008     -0.812      0.417      -146.986    60.914\n",
       "bathrooms            64.9555      5.276     12.311      0.000        54.609    75.302\n",
       "bedrooms             -2.9776      3.994     -0.746      0.456       -10.809     4.854\n",
       "guests_included      -1.5555      1.822     -0.854      0.393        -5.128     2.017\n",
       "extra_people          0.1342      0.102      1.312      0.190        -0.066     0.335\n",
       "minimum_nights       -0.9968      0.383     -2.604      0.009        -1.748    -0.246\n",
       "acc_per_bed           5.2501      2.675      1.962      0.050         0.004    10.496\n",
       "Couch               321.2843     89.377      3.595      0.000       146.013   496.556\n",
       "Futon               -15.2421     68.261     -0.223      0.823      -149.104   118.619\n",
       "Pull-out Sofa        -6.4715     60.275     -0.107      0.915      -124.672   111.729\n",
       "Real Bed             12.1013     51.233      0.236      0.813       -88.369   112.572\n",
       "comp_median_price     0.8267      0.039     21.424      0.000         0.751     0.902\n",
       "==============================================================================\n",
       "Omnibus:                     1346.513   Durbin-Watson:                   1.976\n",
       "Prob(Omnibus):                  0.000   Jarque-Bera (JB):            25433.756\n",
       "Skew:                           2.483   Prob(JB):                         0.00\n",
       "Kurtosis:                      18.770   Cond. No.                     1.43e+04\n",
       "==============================================================================\n",
       "\n",
       "Warnings:\n",
       "[1] Standard Errors assume that the covariance matrix of the errors is correctly specified.\n",
       "[2] The condition number is large, 1.43e+04. This might indicate that there are\n",
       "strong multicollinearity or other numerical problems.\n",
       "\"\"\""
      ]
     },
     "execution_count": 84,
     "metadata": {},
     "output_type": "execute_result"
    }
   ],
   "source": [
    "lr2.summary()"
   ]
  },
  {
   "cell_type": "code",
   "execution_count": null,
   "metadata": {
    "collapsed": true
   },
   "outputs": [],
   "source": []
  },
  {
   "cell_type": "code",
   "execution_count": 103,
   "metadata": {
    "collapsed": false
   },
   "outputs": [],
   "source": [
    "X_train_int2 = X_train_int.drop(1861, axis=0) # couch outlier\n",
    "X_train_int2 = X_train_int2.drop(['extra_people', 'Couch', 'Futon', 'Pull-out Sofa', 'Real Bed'], axis=1)"
   ]
  },
  {
   "cell_type": "code",
   "execution_count": 106,
   "metadata": {
    "collapsed": false
   },
   "outputs": [],
   "source": [
    "y_train2 = y_train.drop(1861, axis=0) # couch outlier\n",
    "X_test_int = sm.add_constant(X_test)\n",
    "X_test_int2 = X_test_int.drop(['extra_people', 'Couch', 'Futon', 'Pull-out Sofa', 'Real Bed'], axis=1)"
   ]
  },
  {
   "cell_type": "code",
   "execution_count": 108,
   "metadata": {
    "collapsed": false,
    "scrolled": true
   },
   "outputs": [],
   "source": [
    "lr3 = sm.OLS(y_train2, X_train_int2)\n",
    "lr3 = lr3.fit()"
   ]
  },
  {
   "cell_type": "code",
   "execution_count": 110,
   "metadata": {
    "collapsed": false
   },
   "outputs": [
    {
     "data": {
      "text/html": [
       "<table class=\"simpletable\">\n",
       "<caption>OLS Regression Results</caption>\n",
       "<tr>\n",
       "  <th>Dep. Variable:</th>          <td>price</td>      <th>  R-squared:         </th> <td>   0.527</td> \n",
       "</tr>\n",
       "<tr>\n",
       "  <th>Model:</th>                   <td>OLS</td>       <th>  Adj. R-squared:    </th> <td>   0.526</td> \n",
       "</tr>\n",
       "<tr>\n",
       "  <th>Method:</th>             <td>Least Squares</td>  <th>  F-statistic:       </th> <td>   413.4</td> \n",
       "</tr>\n",
       "<tr>\n",
       "  <th>Date:</th>             <td>Tue, 29 Sep 2015</td> <th>  Prob (F-statistic):</th>  <td>  0.00</td>  \n",
       "</tr>\n",
       "<tr>\n",
       "  <th>Time:</th>                 <td>14:05:04</td>     <th>  Log-Likelihood:    </th> <td> -13440.</td> \n",
       "</tr>\n",
       "<tr>\n",
       "  <th>No. Observations:</th>      <td>  2232</td>      <th>  AIC:               </th> <td>2.689e+04</td>\n",
       "</tr>\n",
       "<tr>\n",
       "  <th>Df Residuals:</th>          <td>  2225</td>      <th>  BIC:               </th> <td>2.693e+04</td>\n",
       "</tr>\n",
       "<tr>\n",
       "  <th>Df Model:</th>              <td>     6</td>      <th>                     </th>     <td> </td>    \n",
       "</tr>\n",
       "<tr>\n",
       "  <th>Covariance Type:</th>      <td>nonrobust</td>    <th>                     </th>     <td> </td>    \n",
       "</tr>\n",
       "</table>\n",
       "<table class=\"simpletable\">\n",
       "<tr>\n",
       "          <td></td>             <th>coef</th>     <th>std err</th>      <th>t</th>      <th>P>|t|</th> <th>[95.0% Conf. Int.]</th> \n",
       "</tr>\n",
       "<tr>\n",
       "  <th>const</th>             <td>  -30.7255</td> <td>    8.901</td> <td>   -3.452</td> <td> 0.001</td> <td>  -48.180   -13.271</td>\n",
       "</tr>\n",
       "<tr>\n",
       "  <th>bathrooms</th>         <td>   64.8118</td> <td>    5.246</td> <td>   12.354</td> <td> 0.000</td> <td>   54.524    75.100</td>\n",
       "</tr>\n",
       "<tr>\n",
       "  <th>bedrooms</th>          <td>   -3.0507</td> <td>    3.957</td> <td>   -0.771</td> <td> 0.441</td> <td>  -10.811     4.710</td>\n",
       "</tr>\n",
       "<tr>\n",
       "  <th>guests_included</th>   <td>   -1.0309</td> <td>    1.604</td> <td>   -0.643</td> <td> 0.520</td> <td>   -4.176     2.114</td>\n",
       "</tr>\n",
       "<tr>\n",
       "  <th>minimum_nights</th>    <td>   -0.9986</td> <td>    0.380</td> <td>   -2.625</td> <td> 0.009</td> <td>   -1.745    -0.253</td>\n",
       "</tr>\n",
       "<tr>\n",
       "  <th>acc_per_bed</th>       <td>    5.4661</td> <td>    2.506</td> <td>    2.181</td> <td> 0.029</td> <td>    0.552    10.380</td>\n",
       "</tr>\n",
       "<tr>\n",
       "  <th>comp_median_price</th> <td>    0.8287</td> <td>    0.038</td> <td>   21.606</td> <td> 0.000</td> <td>    0.754     0.904</td>\n",
       "</tr>\n",
       "</table>\n",
       "<table class=\"simpletable\">\n",
       "<tr>\n",
       "  <th>Omnibus:</th>       <td>1360.418</td> <th>  Durbin-Watson:     </th> <td>   1.978</td> \n",
       "</tr>\n",
       "<tr>\n",
       "  <th>Prob(Omnibus):</th>  <td> 0.000</td>  <th>  Jarque-Bera (JB):  </th> <td>26014.637</td>\n",
       "</tr>\n",
       "<tr>\n",
       "  <th>Skew:</th>           <td> 2.516</td>  <th>  Prob(JB):          </th> <td>    0.00</td> \n",
       "</tr>\n",
       "<tr>\n",
       "  <th>Kurtosis:</th>       <td>18.950</td>  <th>  Cond. No.          </th> <td>1.12e+03</td> \n",
       "</tr>\n",
       "</table>"
      ],
      "text/plain": [
       "<class 'statsmodels.iolib.summary.Summary'>\n",
       "\"\"\"\n",
       "                            OLS Regression Results                            \n",
       "==============================================================================\n",
       "Dep. Variable:                  price   R-squared:                       0.527\n",
       "Model:                            OLS   Adj. R-squared:                  0.526\n",
       "Method:                 Least Squares   F-statistic:                     413.4\n",
       "Date:                Tue, 29 Sep 2015   Prob (F-statistic):               0.00\n",
       "Time:                        14:05:04   Log-Likelihood:                -13440.\n",
       "No. Observations:                2232   AIC:                         2.689e+04\n",
       "Df Residuals:                    2225   BIC:                         2.693e+04\n",
       "Df Model:                           6                                         \n",
       "Covariance Type:            nonrobust                                         \n",
       "=====================================================================================\n",
       "                        coef    std err          t      P>|t|      [95.0% Conf. Int.]\n",
       "-------------------------------------------------------------------------------------\n",
       "const               -30.7255      8.901     -3.452      0.001       -48.180   -13.271\n",
       "bathrooms            64.8118      5.246     12.354      0.000        54.524    75.100\n",
       "bedrooms             -3.0507      3.957     -0.771      0.441       -10.811     4.710\n",
       "guests_included      -1.0309      1.604     -0.643      0.520        -4.176     2.114\n",
       "minimum_nights       -0.9986      0.380     -2.625      0.009        -1.745    -0.253\n",
       "acc_per_bed           5.4661      2.506      2.181      0.029         0.552    10.380\n",
       "comp_median_price     0.8287      0.038     21.606      0.000         0.754     0.904\n",
       "==============================================================================\n",
       "Omnibus:                     1360.418   Durbin-Watson:                   1.978\n",
       "Prob(Omnibus):                  0.000   Jarque-Bera (JB):            26014.637\n",
       "Skew:                           2.516   Prob(JB):                         0.00\n",
       "Kurtosis:                      18.950   Cond. No.                     1.12e+03\n",
       "==============================================================================\n",
       "\n",
       "Warnings:\n",
       "[1] Standard Errors assume that the covariance matrix of the errors is correctly specified.\n",
       "[2] The condition number is large, 1.12e+03. This might indicate that there are\n",
       "strong multicollinearity or other numerical problems.\n",
       "\"\"\""
      ]
     },
     "execution_count": 110,
     "metadata": {},
     "output_type": "execute_result"
    }
   ],
   "source": [
    "lr3.summary()"
   ]
  },
  {
   "cell_type": "code",
   "execution_count": 111,
   "metadata": {
    "collapsed": true
   },
   "outputs": [],
   "source": [
    "X_train_int3 = X_train_int2.drop(['guests_included', 'bedrooms'], axis=1)"
   ]
  },
  {
   "cell_type": "code",
   "execution_count": 112,
   "metadata": {
    "collapsed": true
   },
   "outputs": [],
   "source": [
    "X_test_int3 = X_test_int2.drop(['guests_included', 'bedrooms'], axis=1)"
   ]
  },
  {
   "cell_type": "code",
   "execution_count": 113,
   "metadata": {
    "collapsed": true
   },
   "outputs": [],
   "source": [
    "lr4 = sm.OLS(y_train2, X_train_int3)\n",
    "lr4 = lr4.fit()"
   ]
  },
  {
   "cell_type": "code",
   "execution_count": 114,
   "metadata": {
    "collapsed": false
   },
   "outputs": [
    {
     "data": {
      "text/html": [
       "<table class=\"simpletable\">\n",
       "<caption>OLS Regression Results</caption>\n",
       "<tr>\n",
       "  <th>Dep. Variable:</th>          <td>price</td>      <th>  R-squared:         </th> <td>   0.527</td> \n",
       "</tr>\n",
       "<tr>\n",
       "  <th>Model:</th>                   <td>OLS</td>       <th>  Adj. R-squared:    </th> <td>   0.526</td> \n",
       "</tr>\n",
       "<tr>\n",
       "  <th>Method:</th>             <td>Least Squares</td>  <th>  F-statistic:       </th> <td>   619.9</td> \n",
       "</tr>\n",
       "<tr>\n",
       "  <th>Date:</th>             <td>Tue, 29 Sep 2015</td> <th>  Prob (F-statistic):</th>  <td>  0.00</td>  \n",
       "</tr>\n",
       "<tr>\n",
       "  <th>Time:</th>                 <td>14:08:04</td>     <th>  Log-Likelihood:    </th> <td> -13441.</td> \n",
       "</tr>\n",
       "<tr>\n",
       "  <th>No. Observations:</th>      <td>  2232</td>      <th>  AIC:               </th> <td>2.689e+04</td>\n",
       "</tr>\n",
       "<tr>\n",
       "  <th>Df Residuals:</th>          <td>  2227</td>      <th>  BIC:               </th> <td>2.692e+04</td>\n",
       "</tr>\n",
       "<tr>\n",
       "  <th>Df Model:</th>              <td>     4</td>      <th>                     </th>     <td> </td>    \n",
       "</tr>\n",
       "<tr>\n",
       "  <th>Covariance Type:</th>      <td>nonrobust</td>    <th>                     </th>     <td> </td>    \n",
       "</tr>\n",
       "</table>\n",
       "<table class=\"simpletable\">\n",
       "<tr>\n",
       "          <td></td>             <th>coef</th>     <th>std err</th>      <th>t</th>      <th>P>|t|</th> <th>[95.0% Conf. Int.]</th> \n",
       "</tr>\n",
       "<tr>\n",
       "  <th>const</th>             <td>  -29.7564</td> <td>    8.537</td> <td>   -3.486</td> <td> 0.001</td> <td>  -46.498   -13.015</td>\n",
       "</tr>\n",
       "<tr>\n",
       "  <th>bathrooms</th>         <td>   63.1846</td> <td>    4.979</td> <td>   12.690</td> <td> 0.000</td> <td>   53.420    72.949</td>\n",
       "</tr>\n",
       "<tr>\n",
       "  <th>minimum_nights</th>    <td>   -0.9952</td> <td>    0.380</td> <td>   -2.617</td> <td> 0.009</td> <td>   -1.741    -0.249</td>\n",
       "</tr>\n",
       "<tr>\n",
       "  <th>acc_per_bed</th>       <td>    5.5771</td> <td>    2.499</td> <td>    2.231</td> <td> 0.026</td> <td>    0.676    10.478</td>\n",
       "</tr>\n",
       "<tr>\n",
       "  <th>comp_median_price</th> <td>    0.8036</td> <td>    0.027</td> <td>   29.488</td> <td> 0.000</td> <td>    0.750     0.857</td>\n",
       "</tr>\n",
       "</table>\n",
       "<table class=\"simpletable\">\n",
       "<tr>\n",
       "  <th>Omnibus:</th>       <td>1366.679</td> <th>  Durbin-Watson:     </th> <td>   1.979</td> \n",
       "</tr>\n",
       "<tr>\n",
       "  <th>Prob(Omnibus):</th>  <td> 0.000</td>  <th>  Jarque-Bera (JB):  </th> <td>26144.399</td>\n",
       "</tr>\n",
       "<tr>\n",
       "  <th>Skew:</th>           <td> 2.533</td>  <th>  Prob(JB):          </th> <td>    0.00</td> \n",
       "</tr>\n",
       "<tr>\n",
       "  <th>Kurtosis:</th>       <td>18.983</td>  <th>  Cond. No.          </th> <td>1.06e+03</td> \n",
       "</tr>\n",
       "</table>"
      ],
      "text/plain": [
       "<class 'statsmodels.iolib.summary.Summary'>\n",
       "\"\"\"\n",
       "                            OLS Regression Results                            \n",
       "==============================================================================\n",
       "Dep. Variable:                  price   R-squared:                       0.527\n",
       "Model:                            OLS   Adj. R-squared:                  0.526\n",
       "Method:                 Least Squares   F-statistic:                     619.9\n",
       "Date:                Tue, 29 Sep 2015   Prob (F-statistic):               0.00\n",
       "Time:                        14:08:04   Log-Likelihood:                -13441.\n",
       "No. Observations:                2232   AIC:                         2.689e+04\n",
       "Df Residuals:                    2227   BIC:                         2.692e+04\n",
       "Df Model:                           4                                         \n",
       "Covariance Type:            nonrobust                                         \n",
       "=====================================================================================\n",
       "                        coef    std err          t      P>|t|      [95.0% Conf. Int.]\n",
       "-------------------------------------------------------------------------------------\n",
       "const               -29.7564      8.537     -3.486      0.001       -46.498   -13.015\n",
       "bathrooms            63.1846      4.979     12.690      0.000        53.420    72.949\n",
       "minimum_nights       -0.9952      0.380     -2.617      0.009        -1.741    -0.249\n",
       "acc_per_bed           5.5771      2.499      2.231      0.026         0.676    10.478\n",
       "comp_median_price     0.8036      0.027     29.488      0.000         0.750     0.857\n",
       "==============================================================================\n",
       "Omnibus:                     1366.679   Durbin-Watson:                   1.979\n",
       "Prob(Omnibus):                  0.000   Jarque-Bera (JB):            26144.399\n",
       "Skew:                           2.533   Prob(JB):                         0.00\n",
       "Kurtosis:                      18.983   Cond. No.                     1.06e+03\n",
       "==============================================================================\n",
       "\n",
       "Warnings:\n",
       "[1] Standard Errors assume that the covariance matrix of the errors is correctly specified.\n",
       "[2] The condition number is large, 1.06e+03. This might indicate that there are\n",
       "strong multicollinearity or other numerical problems.\n",
       "\"\"\""
      ]
     },
     "execution_count": 114,
     "metadata": {},
     "output_type": "execute_result"
    }
   ],
   "source": [
    "lr4.summary()"
   ]
  },
  {
   "cell_type": "code",
   "execution_count": 116,
   "metadata": {
    "collapsed": false
   },
   "outputs": [],
   "source": [
    "y_pred = lr4.predict(X_test_int3)"
   ]
  },
  {
   "cell_type": "code",
   "execution_count": 117,
   "metadata": {
    "collapsed": false
   },
   "outputs": [
    {
     "data": {
      "text/plain": [
       "56.019428994147617"
      ]
     },
     "execution_count": 117,
     "metadata": {},
     "output_type": "execute_result"
    }
   ],
   "source": [
    "mean_absolute_error(y_test, y_pred)"
   ]
  },
  {
   "cell_type": "code",
   "execution_count": 120,
   "metadata": {
    "collapsed": false
   },
   "outputs": [
    {
     "data": {
      "text/plain": [
       "RandomForestRegressor(bootstrap=True, criterion='mse', max_depth=None,\n",
       "           max_features='auto', max_leaf_nodes=None, min_samples_leaf=1,\n",
       "           min_samples_split=2, min_weight_fraction_leaf=0.0,\n",
       "           n_estimators=100, n_jobs=1, oob_score=False, random_state=None,\n",
       "           verbose=0, warm_start=False)"
      ]
     },
     "execution_count": 120,
     "metadata": {},
     "output_type": "execute_result"
    }
   ],
   "source": [
    "rf2 = RandomForestRegressor(n_estimators=100)\n",
    "rf2.fit(X_train_int3.drop('const', axis=1), y_train2)"
   ]
  },
  {
   "cell_type": "code",
   "execution_count": 123,
   "metadata": {
    "collapsed": false
   },
   "outputs": [],
   "source": [
    "y_pred2 = rf2.predict(X_test_int3.drop('const', axis=1))\n"
   ]
  },
  {
   "cell_type": "code",
   "execution_count": 124,
   "metadata": {
    "collapsed": false
   },
   "outputs": [
    {
     "data": {
      "text/plain": [
       "65.964973444106093"
      ]
     },
     "execution_count": 124,
     "metadata": {},
     "output_type": "execute_result"
    }
   ],
   "source": [
    "mean_absolute_error(y_test, y_pred2)"
   ]
  },
  {
   "cell_type": "code",
   "execution_count": 125,
   "metadata": {
    "collapsed": false
   },
   "outputs": [
    {
     "data": {
      "text/plain": [
       "57.372872268431244"
      ]
     },
     "execution_count": 125,
     "metadata": {},
     "output_type": "execute_result"
    }
   ],
   "source": [
    "gdbr2 = GradientBoostingRegressor()\n",
    "gdbr2.fit(X_train_int3.drop('const', axis=1), y_train2)\n",
    "y_pred3 = gdbr2.predict(X_test_int3.drop('const', axis=1))\n",
    "mean_absolute_error(y_test, y_pred3)"
   ]
  },
  {
   "cell_type": "code",
   "execution_count": 126,
   "metadata": {
    "collapsed": false
   },
   "outputs": [
    {
     "data": {
      "text/plain": [
       "55.444096133751309"
      ]
     },
     "execution_count": 126,
     "metadata": {},
     "output_type": "execute_result"
    }
   ],
   "source": [
    "mean_absolute_error(X_test_int3.comp_median_price, y_test)"
   ]
  },
  {
   "cell_type": "markdown",
   "metadata": {},
   "source": [
    "## Is it better to use KMeans Clustering?"
   ]
  },
  {
   "cell_type": "code",
   "execution_count": 85,
   "metadata": {
    "collapsed": true
   },
   "outputs": [],
   "source": [
    "df2 = pd.read_csv('../../Data/Airbnb/featurized_clusters.csv')"
   ]
  },
  {
   "cell_type": "code",
   "execution_count": 86,
   "metadata": {
    "collapsed": false
   },
   "outputs": [],
   "source": [
    "df2.drop(['Unnamed: 0', 'Unnamed: 0.1'], axis=1, inplace=True)"
   ]
  },
  {
   "cell_type": "code",
   "execution_count": 87,
   "metadata": {
    "collapsed": false
   },
   "outputs": [
    {
     "name": "stdout",
     "output_type": "stream",
     "text": [
      "<class 'pandas.core.frame.DataFrame'>\n",
      "Int64Index: 3190 entries, 0 to 3189\n",
      "Data columns (total 14 columns):\n",
      "bathrooms               3190 non-null float64\n",
      "bedrooms                3190 non-null float64\n",
      "price                   3190 non-null float64\n",
      "guests_included         3190 non-null int64\n",
      "extra_people            3190 non-null float64\n",
      "minimum_nights          3190 non-null int64\n",
      "maximum_nights          3190 non-null int64\n",
      "acc_per_bed             3190 non-null float64\n",
      "Couch                   3190 non-null float64\n",
      "Futon                   3190 non-null float64\n",
      "Pull-out Sofa           3190 non-null float64\n",
      "Real Bed                3190 non-null float64\n",
      "cluster                 3190 non-null int64\n",
      "cluster_median_price    3190 non-null float64\n",
      "dtypes: float64(10), int64(4)\n",
      "memory usage: 373.8 KB\n"
     ]
    }
   ],
   "source": [
    "df2.info()"
   ]
  },
  {
   "cell_type": "code",
   "execution_count": 88,
   "metadata": {
    "collapsed": true
   },
   "outputs": [],
   "source": [
    "y2 = df2.price\n",
    "X2 = df2.drop('price', axis=1)"
   ]
  },
  {
   "cell_type": "code",
   "execution_count": 89,
   "metadata": {
    "collapsed": false
   },
   "outputs": [],
   "source": [
    "X2_train, X2_test, y2_train, y2_test = train_test_split(X2, y2, test_size=0.3)"
   ]
  },
  {
   "cell_type": "code",
   "execution_count": 90,
   "metadata": {
    "collapsed": false
   },
   "outputs": [
    {
     "name": "stdout",
     "output_type": "stream",
     "text": [
      "RandomForestRegressor\n",
      "MSE:  12956.9644413\n",
      "MAE:  68.8599371635\n",
      "------------------------------\n",
      "LinearRegression\n",
      "MSE:  12330.5331148\n",
      "MAE:  68.5498276702\n",
      "------------------------------\n",
      "GradientBoostingRegressor\n",
      "MSE:  11859.2862131\n",
      "MAE:  64.7488683751\n",
      "------------------------------\n",
      "AdaBoostRegressor\n",
      "MSE:  16072.7206139\n",
      "MAE:  88.7193042473\n",
      "------------------------------\n"
     ]
    }
   ],
   "source": [
    "for model in models:\n",
    "    mse, mae = fit_score_model(X2_train, X2_test, y2_train, y2_test, model)\n",
    "    print model.__class__.__name__\n",
    "    print \"MSE: \", mse\n",
    "    print \"MAE: \", mae\n",
    "    print '-' * 30"
   ]
  },
  {
   "cell_type": "code",
   "execution_count": 91,
   "metadata": {
    "collapsed": false
   },
   "outputs": [
    {
     "data": {
      "text/plain": [
       "[RandomForestRegressor(bootstrap=True, criterion='mse', max_depth=None,\n",
       "            max_features='auto', max_leaf_nodes=None, min_samples_leaf=1,\n",
       "            min_samples_split=2, min_weight_fraction_leaf=0.0,\n",
       "            n_estimators=100, n_jobs=1, oob_score=False, random_state=None,\n",
       "            verbose=0, warm_start=False),\n",
       " LinearRegression(copy_X=True, fit_intercept=True, n_jobs=1, normalize=False),\n",
       " GradientBoostingRegressor(alpha=0.9, init=None, learning_rate=0.1, loss='ls',\n",
       "              max_depth=3, max_features=None, max_leaf_nodes=None,\n",
       "              min_samples_leaf=1, min_samples_split=2,\n",
       "              min_weight_fraction_leaf=0.0, n_estimators=100,\n",
       "              random_state=None, subsample=1.0, verbose=0, warm_start=False),\n",
       " AdaBoostRegressor(base_estimator=None, learning_rate=1.0, loss='linear',\n",
       "          n_estimators=50, random_state=None)]"
      ]
     },
     "execution_count": 91,
     "metadata": {},
     "output_type": "execute_result"
    }
   ],
   "source": [
    "models"
   ]
  },
  {
   "cell_type": "code",
   "execution_count": 100,
   "metadata": {
    "collapsed": false
   },
   "outputs": [
    {
     "data": {
      "text/plain": [
       "272     125\n",
       "981     115\n",
       "1220    170\n",
       "1266     87\n",
       "2116    200\n",
       "Name: price, dtype: float64"
      ]
     },
     "execution_count": 100,
     "metadata": {},
     "output_type": "execute_result"
    }
   ],
   "source": [
    "y_train[X_train.Futon > 0]"
   ]
  },
  {
   "cell_type": "code",
   "execution_count": null,
   "metadata": {
    "collapsed": true
   },
   "outputs": [],
   "source": []
  }
 ],
 "metadata": {
  "kernelspec": {
   "display_name": "Python 2",
   "language": "python",
   "name": "python2"
  },
  "language_info": {
   "codemirror_mode": {
    "name": "ipython",
    "version": 2
   },
   "file_extension": ".py",
   "mimetype": "text/x-python",
   "name": "python",
   "nbconvert_exporter": "python",
   "pygments_lexer": "ipython2",
   "version": "2.7.10"
  }
 },
 "nbformat": 4,
 "nbformat_minor": 0
}
