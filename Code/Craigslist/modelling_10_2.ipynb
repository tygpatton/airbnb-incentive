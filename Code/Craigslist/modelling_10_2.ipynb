{
 "cells": [
  {
   "cell_type": "code",
   "execution_count": 1,
   "metadata": {
    "collapsed": true
   },
   "outputs": [],
   "source": [
    "import pandas as pd\n",
    "from sklearn.metrics import mean_absolute_error, mean_squared_error\n",
    "import numpy as np\n",
    "import cPickle as pickle"
   ]
  },
  {
   "cell_type": "code",
   "execution_count": 2,
   "metadata": {
    "collapsed": false
   },
   "outputs": [],
   "source": [
    "def read_file_and_score(num_comps):\n",
    "    w_citywide = pd.read_csv('../../Data/Craigslist/comp_variants/beds_%s_w_city.csv' % num_comps)\n",
    "    wo_citywide = pd.read_csv('../../Data/Craigslist/comp_variants/beds_%s_wo_city.csv' % num_comps)\n",
    "\n",
    "    print '-'*30\n",
    "    print 'Comps: %s' % num_comps\n",
    "    print 'MAE w city, median: ', mean_absolute_error(w_citywide.price, w_citywide.comp_median_price)\n",
    "    print 'MSE w city, median: ', mean_squared_error(w_citywide.price, w_citywide.comp_median_price)\n",
    "\n",
    "    print 'MAE w city, mean: ', mean_absolute_error(w_citywide.price, w_citywide.comp_mean_price)\n",
    "    print 'MSE w city, mean: ', mean_squared_error(w_citywide.price, w_citywide.comp_mean_price)\n",
    "\n",
    "    print 'MAE wo city, median: ', mean_absolute_error(wo_citywide.price, wo_citywide.comp_median_price)\n",
    "    print 'MSE wo city, median: ', mean_squared_error(wo_citywide.price, wo_citywide.comp_median_price)\n",
    "\n",
    "    print 'MAE wo city, median: ', mean_absolute_error(wo_citywide.price, wo_citywide.comp_mean_price)\n",
    "    print 'MSE wo city, median: ', mean_squared_error(wo_citywide.price, wo_citywide.comp_mean_price)\n",
    "    print '\\n'\n",
    "    return None"
   ]
  },
  {
   "cell_type": "code",
   "execution_count": 3,
   "metadata": {
    "collapsed": false
   },
   "outputs": [
    {
     "name": "stdout",
     "output_type": "stream",
     "text": [
      "------------------------------\n",
      "Comps: 10\n",
      "MAE w city, median:  511.48449041\n",
      "MSE w city, median:  687900.163042\n",
      "MAE w city, mean:  527.818011516\n",
      "MSE w city, mean:  653371.668307\n",
      "MAE wo city, median:  510.957799902\n",
      "MSE wo city, median:  686537.883125\n",
      "MAE wo city, median:  527.272455871\n",
      "MSE wo city, median:  651809.034555\n",
      "\n",
      "\n",
      "------------------------------\n",
      "Comps: 20\n",
      "MAE w city, median:  531.435770481\n",
      "MSE w city, median:  698706.030108\n",
      "MAE w city, mean:  545.971454905\n",
      "MSE w city, mean:  677316.370902\n",
      "MAE wo city, median:  530.909079974\n",
      "MSE wo city, median:  697343.750191\n",
      "MAE wo city, median:  545.425899259\n",
      "MSE wo city, median:  675753.73715\n",
      "\n",
      "\n",
      "------------------------------\n",
      "Comps: 50\n",
      "MAE w city, median:  554.35369067\n",
      "MSE w city, median:  725240.580354\n",
      "MAE w city, mean:  566.170385945\n",
      "MSE w city, mean:  707508.1448\n",
      "MAE wo city, median:  553.827000163\n",
      "MSE wo city, median:  723878.300437\n",
      "MAE wo city, median:  565.624830299\n",
      "MSE wo city, median:  705945.511048\n",
      "\n",
      "\n",
      "------------------------------\n",
      "Comps: 100\n",
      "MAE w city, median:  574.988289987\n",
      "MSE w city, median:  768254.954029\n",
      "MAE w city, mean:  586.079694469\n",
      "MSE w city, mean:  743576.063736\n",
      "MAE wo city, median:  574.46159948\n",
      "MSE wo city, median:  766892.674112\n",
      "MAE wo city, median:  585.534138823\n",
      "MSE wo city, median:  742013.429985\n",
      "\n",
      "\n"
     ]
    }
   ],
   "source": [
    "comp_amts = [10, 20, 50, 100]\n",
    "for n in comp_amts:\n",
    "    read_file_and_score(n)"
   ]
  },
  {
   "cell_type": "code",
   "execution_count": 4,
   "metadata": {
    "collapsed": true
   },
   "outputs": [],
   "source": [
    "# now that we have cross-validated number of comps\n",
    "df = pd.read_csv('../../Data/Craigslist/featurized_final.csv')"
   ]
  },
  {
   "cell_type": "code",
   "execution_count": 5,
   "metadata": {
    "collapsed": false
   },
   "outputs": [],
   "source": [
    "X = df.drop(['Unnamed: 0','Unnamed: 0.1','id', 'heading', 'body', 'region','neighborhood', 'accuracy','date','flagged','comps_found', 'fewer_than_five'], axis=1)\n",
    "X['apt'].fillna(0, inplace=True)\n",
    "X['house'].fillna(0, inplace=True)\n",
    "X = X[X['sqft'].notnull()]"
   ]
  },
  {
   "cell_type": "code",
   "execution_count": 6,
   "metadata": {
    "collapsed": true
   },
   "outputs": [],
   "source": [
    "y = df.price"
   ]
  },
  {
   "cell_type": "code",
   "execution_count": 7,
   "metadata": {
    "collapsed": false
   },
   "outputs": [],
   "source": [
    "X.drop(['lat', 'long', 'price'], axis=1, inplace=True)"
   ]
  },
  {
   "cell_type": "code",
   "execution_count": 8,
   "metadata": {
    "collapsed": false
   },
   "outputs": [
    {
     "name": "stdout",
     "output_type": "stream",
     "text": [
      "<class 'pandas.core.frame.DataFrame'>\n",
      "Int64Index: 20895 entries, 7 to 61514\n",
      "Data columns (total 8 columns):\n",
      "beds                 20895 non-null float64\n",
      "baths                20895 non-null float64\n",
      "parking              20895 non-null int64\n",
      "sqft                 20895 non-null float64\n",
      "apt                  20895 non-null float64\n",
      "house                20895 non-null float64\n",
      "comp_median_price    20895 non-null float64\n",
      "comp_mean_price      20895 non-null float64\n",
      "dtypes: float64(7), int64(1)\n",
      "memory usage: 1.4 MB\n"
     ]
    }
   ],
   "source": [
    "X.info()"
   ]
  },
  {
   "cell_type": "code",
   "execution_count": 9,
   "metadata": {
    "collapsed": false
   },
   "outputs": [
    {
     "data": {
      "text/plain": [
       "1    6879\n",
       "0    5970\n",
       "2    5757\n",
       "3    1840\n",
       "4     366\n",
       "5      65\n",
       "6      13\n",
       "8       5\n",
       "dtype: int64"
      ]
     },
     "execution_count": 9,
     "metadata": {},
     "output_type": "execute_result"
    }
   ],
   "source": [
    "X.beds.value_counts()"
   ]
  },
  {
   "cell_type": "code",
   "execution_count": 10,
   "metadata": {
    "collapsed": false
   },
   "outputs": [
    {
     "data": {
      "text/plain": [
       "1    6675\n",
       "2     201\n",
       "3       3\n",
       "dtype: int64"
      ]
     },
     "execution_count": 10,
     "metadata": {},
     "output_type": "execute_result"
    }
   ],
   "source": [
    "X[X.beds==1]['baths'].value_counts()\n"
   ]
  },
  {
   "cell_type": "code",
   "execution_count": 11,
   "metadata": {
    "collapsed": false
   },
   "outputs": [
    {
     "name": "stdout",
     "output_type": "stream",
     "text": [
      "725.0\n",
      "760.513010612\n"
     ]
    }
   ],
   "source": [
    "print np.median(X[X.beds==1]['sqft'])\n",
    "print np.mean(X[X.beds==1]['sqft'])"
   ]
  },
  {
   "cell_type": "code",
   "execution_count": 12,
   "metadata": {
    "collapsed": false
   },
   "outputs": [
    {
     "data": {
      "text/plain": [
       "1    5062\n",
       "0    1817\n",
       "dtype: int64"
      ]
     },
     "execution_count": 12,
     "metadata": {},
     "output_type": "execute_result"
    }
   ],
   "source": [
    "X[X.beds==1]['apt'].value_counts()"
   ]
  },
  {
   "cell_type": "code",
   "execution_count": 13,
   "metadata": {
    "collapsed": false
   },
   "outputs": [
    {
     "data": {
      "text/plain": [
       "0    3010\n",
       "4    2299\n",
       "1     986\n",
       "3     408\n",
       "2     176\n",
       "dtype: int64"
      ]
     },
     "execution_count": 13,
     "metadata": {},
     "output_type": "execute_result"
    }
   ],
   "source": [
    "X[X.beds==1]['parking'].value_counts()"
   ]
  },
  {
   "cell_type": "code",
   "execution_count": 14,
   "metadata": {
    "collapsed": true
   },
   "outputs": [],
   "source": [
    "sample_for_grid = np.array([1, 1, 0, 725.0, 1, 0])"
   ]
  },
  {
   "cell_type": "code",
   "execution_count": 15,
   "metadata": {
    "collapsed": true
   },
   "outputs": [],
   "source": [
    "df2 = pd.read_csv('../../Data/Craigslist/featurized_full_3.csv')"
   ]
  },
  {
   "cell_type": "code",
   "execution_count": 16,
   "metadata": {
    "collapsed": false
   },
   "outputs": [
    {
     "data": {
      "text/html": [
       "<div>\n",
       "<table border=\"1\" class=\"dataframe\">\n",
       "  <thead>\n",
       "    <tr style=\"text-align: right;\">\n",
       "      <th></th>\n",
       "      <th>Unnamed: 0</th>\n",
       "      <th>Unnamed: 0.1</th>\n",
       "      <th>id</th>\n",
       "      <th>heading</th>\n",
       "      <th>body</th>\n",
       "      <th>price</th>\n",
       "      <th>lat</th>\n",
       "      <th>long</th>\n",
       "      <th>region</th>\n",
       "      <th>neighborhood</th>\n",
       "      <th>...</th>\n",
       "      <th>parking</th>\n",
       "      <th>sqft</th>\n",
       "      <th>apt</th>\n",
       "      <th>accuracy</th>\n",
       "      <th>date</th>\n",
       "      <th>flagged</th>\n",
       "      <th>house</th>\n",
       "      <th>comp_median_price</th>\n",
       "      <th>comps_found</th>\n",
       "      <th>fewer_than_five</th>\n",
       "    </tr>\n",
       "  </thead>\n",
       "  <tbody>\n",
       "    <tr>\n",
       "      <th>0</th>\n",
       "      <td>0</td>\n",
       "      <td>0</td>\n",
       "      <td>1418103620</td>\n",
       "      <td>SRO Type Room In Chinatown</td>\n",
       "      <td>\\n **Open House on Friday 10/3 3pm to 5pm **\\n...</td>\n",
       "      <td>675</td>\n",
       "      <td>37.795400</td>\n",
       "      <td>-122.406086</td>\n",
       "      <td>sfc</td>\n",
       "      <td>financial district</td>\n",
       "      <td>...</td>\n",
       "      <td>1</td>\n",
       "      <td>NaN</td>\n",
       "      <td>1</td>\n",
       "      <td>8</td>\n",
       "      <td>2014-09-29 04:40:43</td>\n",
       "      <td>NaN</td>\n",
       "      <td>NaN</td>\n",
       "      <td>800.0</td>\n",
       "      <td>10</td>\n",
       "      <td>0</td>\n",
       "    </tr>\n",
       "    <tr>\n",
       "      <th>1</th>\n",
       "      <td>1</td>\n",
       "      <td>1</td>\n",
       "      <td>1418876214</td>\n",
       "      <td>Top Floor Fantastic Totally Remodeled Marina S...</td>\n",
       "      <td>\\n Contact info: Walt\\n Top Floor Totally Remo...</td>\n",
       "      <td>2350</td>\n",
       "      <td>37.801036</td>\n",
       "      <td>-122.434535</td>\n",
       "      <td>sfc</td>\n",
       "      <td>marina / cow hollow</td>\n",
       "      <td>...</td>\n",
       "      <td>1</td>\n",
       "      <td>NaN</td>\n",
       "      <td>1</td>\n",
       "      <td>8</td>\n",
       "      <td>2014-09-29 14:24:16</td>\n",
       "      <td>NaN</td>\n",
       "      <td>NaN</td>\n",
       "      <td>2195.0</td>\n",
       "      <td>10</td>\n",
       "      <td>0</td>\n",
       "    </tr>\n",
       "    <tr>\n",
       "      <th>2</th>\n",
       "      <td>2</td>\n",
       "      <td>2</td>\n",
       "      <td>1418876409</td>\n",
       "      <td>Just Renovated. Small Studio. Across St from T...</td>\n",
       "      <td>\\n Open House Sunday 3:00-3:20\\nJust Renovated...</td>\n",
       "      <td>1625</td>\n",
       "      <td>37.776789</td>\n",
       "      <td>-122.415409</td>\n",
       "      <td>sfc</td>\n",
       "      <td>SOMA / south beach</td>\n",
       "      <td>...</td>\n",
       "      <td>1</td>\n",
       "      <td>NaN</td>\n",
       "      <td>1</td>\n",
       "      <td>8</td>\n",
       "      <td>2014-09-29 14:22:43</td>\n",
       "      <td>NaN</td>\n",
       "      <td>NaN</td>\n",
       "      <td>1610.0</td>\n",
       "      <td>10</td>\n",
       "      <td>0</td>\n",
       "    </tr>\n",
       "    <tr>\n",
       "      <th>3</th>\n",
       "      <td>3</td>\n",
       "      <td>3</td>\n",
       "      <td>1419161628</td>\n",
       "      <td>Large Junior 1 BR / Close to Downtown / Hardwo...</td>\n",
       "      <td>\\n Apartment Features:\\n- Jr. 1 bedroom / 1 ba...</td>\n",
       "      <td>2495</td>\n",
       "      <td>37.784960</td>\n",
       "      <td>-122.416176</td>\n",
       "      <td>sfc</td>\n",
       "      <td>downtown / civic / van ness</td>\n",
       "      <td>...</td>\n",
       "      <td>1</td>\n",
       "      <td>NaN</td>\n",
       "      <td>1</td>\n",
       "      <td>8</td>\n",
       "      <td>2014-09-29 15:39:15</td>\n",
       "      <td>NaN</td>\n",
       "      <td>NaN</td>\n",
       "      <td>2022.5</td>\n",
       "      <td>10</td>\n",
       "      <td>0</td>\n",
       "    </tr>\n",
       "    <tr>\n",
       "      <th>4</th>\n",
       "      <td>4</td>\n",
       "      <td>4</td>\n",
       "      <td>1419200940</td>\n",
       "      <td>Noe Valley gorgeous fully furnished, free util...</td>\n",
       "      <td>\\n email to setup a showing\\n* Free utilities\\...</td>\n",
       "      <td>2895</td>\n",
       "      <td>37.752821</td>\n",
       "      <td>-122.424073</td>\n",
       "      <td>sfc</td>\n",
       "      <td>noe valley</td>\n",
       "      <td>...</td>\n",
       "      <td>0</td>\n",
       "      <td>NaN</td>\n",
       "      <td>1</td>\n",
       "      <td>8</td>\n",
       "      <td>2014-09-29 15:49:59</td>\n",
       "      <td>NaN</td>\n",
       "      <td>NaN</td>\n",
       "      <td>2750.0</td>\n",
       "      <td>10</td>\n",
       "      <td>0</td>\n",
       "    </tr>\n",
       "  </tbody>\n",
       "</table>\n",
       "<p>5 rows × 22 columns</p>\n",
       "</div>"
      ],
      "text/plain": [
       "   Unnamed: 0  Unnamed: 0.1          id  \\\n",
       "0           0             0  1418103620   \n",
       "1           1             1  1418876214   \n",
       "2           2             2  1418876409   \n",
       "3           3             3  1419161628   \n",
       "4           4             4  1419200940   \n",
       "\n",
       "                                             heading  \\\n",
       "0                         SRO Type Room In Chinatown   \n",
       "1  Top Floor Fantastic Totally Remodeled Marina S...   \n",
       "2  Just Renovated. Small Studio. Across St from T...   \n",
       "3  Large Junior 1 BR / Close to Downtown / Hardwo...   \n",
       "4  Noe Valley gorgeous fully furnished, free util...   \n",
       "\n",
       "                                                body  price        lat  \\\n",
       "0  \\n **Open House on Friday 10/3 3pm to 5pm **\\n...    675  37.795400   \n",
       "1  \\n Contact info: Walt\\n Top Floor Totally Remo...   2350  37.801036   \n",
       "2  \\n Open House Sunday 3:00-3:20\\nJust Renovated...   1625  37.776789   \n",
       "3  \\n Apartment Features:\\n- Jr. 1 bedroom / 1 ba...   2495  37.784960   \n",
       "4  \\n email to setup a showing\\n* Free utilities\\...   2895  37.752821   \n",
       "\n",
       "         long region                 neighborhood       ...         parking  \\\n",
       "0 -122.406086    sfc           financial district       ...               1   \n",
       "1 -122.434535    sfc          marina / cow hollow       ...               1   \n",
       "2 -122.415409    sfc           SOMA / south beach       ...               1   \n",
       "3 -122.416176    sfc  downtown / civic / van ness       ...               1   \n",
       "4 -122.424073    sfc                   noe valley       ...               0   \n",
       "\n",
       "   sqft  apt  accuracy                 date  flagged house  comp_median_price  \\\n",
       "0   NaN    1         8  2014-09-29 04:40:43      NaN   NaN              800.0   \n",
       "1   NaN    1         8  2014-09-29 14:24:16      NaN   NaN             2195.0   \n",
       "2   NaN    1         8  2014-09-29 14:22:43      NaN   NaN             1610.0   \n",
       "3   NaN    1         8  2014-09-29 15:39:15      NaN   NaN             2022.5   \n",
       "4   NaN    1         8  2014-09-29 15:49:59      NaN   NaN             2750.0   \n",
       "\n",
       "   comps_found  fewer_than_five  \n",
       "0           10                0  \n",
       "1           10                0  \n",
       "2           10                0  \n",
       "3           10                0  \n",
       "4           10                0  \n",
       "\n",
       "[5 rows x 22 columns]"
      ]
     },
     "execution_count": 16,
     "metadata": {},
     "output_type": "execute_result"
    }
   ],
   "source": [
    "df2.head()"
   ]
  },
  {
   "cell_type": "code",
   "execution_count": 17,
   "metadata": {
    "collapsed": false
   },
   "outputs": [
    {
     "data": {
      "text/plain": [
       "(20895, 8)"
      ]
     },
     "execution_count": 17,
     "metadata": {},
     "output_type": "execute_result"
    }
   ],
   "source": [
    "X.shape"
   ]
  },
  {
   "cell_type": "code",
   "execution_count": 18,
   "metadata": {
    "collapsed": false
   },
   "outputs": [
    {
     "ename": "KeyboardInterrupt",
     "evalue": "(None, <function _reconstructor at 0x10077ca28>, (<class 'sklearn.tree.tree.DecisionTreeRegressor'>, <type 'object'>, None))",
     "output_type": "error",
     "traceback": [
      "\u001b[0;31m---------------------------------------------------------------------------\u001b[0m",
      "\u001b[0;31mKeyboardInterrupt\u001b[0m                         Traceback (most recent call last)",
      "\u001b[0;32m<ipython-input-18-a24a1b7a35a6>\u001b[0m in \u001b[0;36m<module>\u001b[0;34m()\u001b[0m\n\u001b[1;32m      1\u001b[0m \u001b[0;32mwith\u001b[0m \u001b[0mopen\u001b[0m\u001b[0;34m(\u001b[0m\u001b[0;34m'../../Models/Craigslist/rf_craigslist.pkl'\u001b[0m\u001b[0;34m)\u001b[0m \u001b[0;32mas\u001b[0m \u001b[0mf\u001b[0m\u001b[0;34m:\u001b[0m\u001b[0;34m\u001b[0m\u001b[0m\n\u001b[0;32m----> 2\u001b[0;31m     \u001b[0mrf\u001b[0m \u001b[0;34m=\u001b[0m \u001b[0mpickle\u001b[0m\u001b[0;34m.\u001b[0m\u001b[0mload\u001b[0m\u001b[0;34m(\u001b[0m\u001b[0mf\u001b[0m\u001b[0;34m)\u001b[0m\u001b[0;34m\u001b[0m\u001b[0m\n\u001b[0m",
      "\u001b[0;32m//anaconda/lib/python2.7/copy_reg.pyc\u001b[0m in \u001b[0;36m_reconstructor\u001b[0;34m(cls, base, state)\u001b[0m\n\u001b[1;32m     44\u001b[0m \u001b[0;31m# Support for pickling new-style objects\u001b[0m\u001b[0;34m\u001b[0m\u001b[0;34m\u001b[0m\u001b[0m\n\u001b[1;32m     45\u001b[0m \u001b[0;34m\u001b[0m\u001b[0m\n\u001b[0;32m---> 46\u001b[0;31m \u001b[0;32mdef\u001b[0m \u001b[0m_reconstructor\u001b[0m\u001b[0;34m(\u001b[0m\u001b[0mcls\u001b[0m\u001b[0;34m,\u001b[0m \u001b[0mbase\u001b[0m\u001b[0;34m,\u001b[0m \u001b[0mstate\u001b[0m\u001b[0;34m)\u001b[0m\u001b[0;34m:\u001b[0m\u001b[0;34m\u001b[0m\u001b[0m\n\u001b[0m\u001b[1;32m     47\u001b[0m     \u001b[0;32mif\u001b[0m \u001b[0mbase\u001b[0m \u001b[0;32mis\u001b[0m \u001b[0mobject\u001b[0m\u001b[0;34m:\u001b[0m\u001b[0;34m\u001b[0m\u001b[0m\n\u001b[1;32m     48\u001b[0m         \u001b[0mobj\u001b[0m \u001b[0;34m=\u001b[0m \u001b[0mobject\u001b[0m\u001b[0;34m.\u001b[0m\u001b[0m__new__\u001b[0m\u001b[0;34m(\u001b[0m\u001b[0mcls\u001b[0m\u001b[0;34m)\u001b[0m\u001b[0;34m\u001b[0m\u001b[0m\n",
      "\u001b[0;31mKeyboardInterrupt\u001b[0m: (None, <function _reconstructor at 0x10077ca28>, (<class 'sklearn.tree.tree.DecisionTreeRegressor'>, <type 'object'>, None))"
     ]
    }
   ],
   "source": [
    "with open('../../Models/Craigslist/rf_craigslist.pkl') as f:\n",
    "    rf = pickle.load(f)"
   ]
  },
  {
   "cell_type": "code",
   "execution_count": null,
   "metadata": {
    "collapsed": false
   },
   "outputs": [],
   "source": [
    "rf.fit(X.values, y.values)"
   ]
  },
  {
   "cell_type": "code",
   "execution_count": null,
   "metadata": {
    "collapsed": false
   },
   "outputs": [],
   "source": [
    "with open('../../Models/Craigslist/rf_craigslist.pkl', 'w') as f:\n",
    "    pickle.dump(rf, f)"
   ]
  },
  {
   "cell_type": "code",
   "execution_count": null,
   "metadata": {
    "collapsed": false
   },
   "outputs": [],
   "source": [
    "grid = pd.read_csv('../../Data/sf_gps_grid.csv', header=None)"
   ]
  },
  {
   "cell_type": "code",
   "execution_count": null,
   "metadata": {
    "collapsed": false
   },
   "outputs": [],
   "source": [
    "grid.shape"
   ]
  },
  {
   "cell_type": "code",
   "execution_count": null,
   "metadata": {
    "collapsed": true
   },
   "outputs": [],
   "source": [
    "with open('../../Models/Craigslist/kdtree_full2.pkl') as f:\n",
    "    kdtree = pickle.load(f)"
   ]
  },
  {
   "cell_type": "code",
   "execution_count": null,
   "metadata": {
    "collapsed": false
   },
   "outputs": [],
   "source": [
    "predictions = kdtree.query_radius()"
   ]
  },
  {
   "cell_type": "code",
   "execution_count": 19,
   "metadata": {
    "collapsed": true
   },
   "outputs": [],
   "source": [
    "sample_for_grid = np.array([[1, 1, 0, 725.0, 1, 0]] * 40000)"
   ]
  },
  {
   "cell_type": "code",
   "execution_count": 20,
   "metadata": {
    "collapsed": false
   },
   "outputs": [],
   "source": [
    "sample_for_grid = pd.DataFrame(sample_for_grid, columns = ['beds', 'baths', 'parking', 'sqft', 'apt', 'house'] )"
   ]
  },
  {
   "cell_type": "code",
   "execution_count": null,
   "metadata": {
    "collapsed": true
   },
   "outputs": [],
   "source": [
    "grid_gps = pd.read_csv('../../Data/sf_gps_grid.csv', header=None)"
   ]
  },
  {
   "cell_type": "code",
   "execution_count": null,
   "metadata": {
    "collapsed": false
   },
   "outputs": [],
   "source": [
    "grid_gps.columns = ['lat', 'long']"
   ]
  },
  {
   "cell_type": "code",
   "execution_count": null,
   "metadata": {
    "collapsed": false
   },
   "outputs": [],
   "source": [
    "sample_for_grid = pd.merge(sample_for_grid, grid_gps, left_index=True, right_index=True)"
   ]
  },
  {
   "cell_type": "code",
   "execution_count": null,
   "metadata": {
    "collapsed": true
   },
   "outputs": [],
   "source": [
    "sample_for_grid.to_csv('../../Data/Craigslist/sf_grid_points.csv', encoding='utf-8')"
   ]
  },
  {
   "cell_type": "code",
   "execution_count": null,
   "metadata": {
    "collapsed": true
   },
   "outputs": [],
   "source": []
  }
 ],
 "metadata": {
  "kernelspec": {
   "display_name": "Python 2",
   "language": "python",
   "name": "python2"
  },
  "language_info": {
   "codemirror_mode": {
    "name": "ipython",
    "version": 2
   },
   "file_extension": ".py",
   "mimetype": "text/x-python",
   "name": "python",
   "nbconvert_exporter": "python",
   "pygments_lexer": "ipython2",
   "version": "2.7.10"
  }
 },
 "nbformat": 4,
 "nbformat_minor": 0
}
